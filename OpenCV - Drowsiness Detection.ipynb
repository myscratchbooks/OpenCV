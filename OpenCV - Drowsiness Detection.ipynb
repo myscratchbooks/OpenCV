{
 "cells": [
  {
   "cell_type": "markdown",
   "metadata": {},
   "source": [
    "# Driver Drowsiness Detection"
   ]
  },
  {
   "cell_type": "markdown",
   "metadata": {},
   "source": [
    "#### import the required libraries."
   ]
  },
  {
   "cell_type": "code",
   "execution_count": 1,
   "metadata": {
    "scrolled": true
   },
   "outputs": [
    {
     "name": "stdout",
     "output_type": "stream",
     "text": [
      "3.6.13\n"
     ]
    }
   ],
   "source": [
    "# dlib works only on Python version 2.7.x | 3.4.x | 3.5.x | 3.6.x\n",
    "# https://pypi.org/project/dlib/\n",
    "\n",
    "from platform import python_version\n",
    "print(python_version())"
   ]
  },
  {
   "cell_type": "markdown",
   "metadata": {},
   "source": [
    "### How to install dlib library\n",
    "        1. Go to Anaconda Prompt (in administrator right)\n",
    "        2. Make sure in working directory of jupyter book\n",
    "        3. Create virtual environment: conda create --name <name of your enivronment> python=3.6\n",
    "        4. Activate your environment: activate <name of your enivronment>\n",
    "        5. In the virttual environment, install necessary libraries: pip install numpy scipy matplotlib scikit-learn jupyter\n",
    "        6. Install opencv: pip install opencv-contrib-python\n",
    "        7. Install cmake: conda install -c anaconda cmake\n",
    "        8. Install dlib: conda install -c conda-forge dlib "
   ]
  },
  {
   "cell_type": "markdown",
   "metadata": {},
   "source": [
    "#### The facial landmark detector implemented inside dlib produces 68 (x, y)-coordinates that map to specific facial structures. \n"
   ]
  },
  {
   "cell_type": "code",
   "execution_count": 6,
   "metadata": {},
   "outputs": [
    {
     "data": {
      "text/html": [
       "<img src=\"https://www.pyimagesearch.com/wp-content/uploads/2017/04/facial_landmarks_68markup-768x619.jpg\" width=\"600\" height=\"500\"/>"
      ],
      "text/plain": [
       "<IPython.core.display.Image object>"
      ]
     },
     "execution_count": 6,
     "metadata": {},
     "output_type": "execute_result"
    }
   ],
   "source": [
    "from IPython.display import display, Image, SVG, Math, YouTubeVideo\n",
    "Image(url ='https://www.pyimagesearch.com/wp-content/uploads/2017/04/facial_landmarks_68markup-768x619.jpg', width=600, height=500)"
   ]
  },
  {
   "cell_type": "code",
   "execution_count": 25,
   "metadata": {
    "scrolled": false
   },
   "outputs": [
    {
     "name": "stdout",
     "output_type": "stream",
     "text": [
      "Requirement already satisfied: imutils in c:\\programdata\\anaconda3\\envs\\env_name36\\lib\\site-packages (0.5.4)\n",
      "Requirement already satisfied: pygame in c:\\programdata\\anaconda3\\envs\\env_name36\\lib\\site-packages (2.0.1)\n"
     ]
    }
   ],
   "source": [
    "import numpy as np\n",
    "import dlib    #To detect and localize facial landmarks\n",
    "import cv2\n",
    "import threading\n",
    "from threading import Thread\n",
    "!pip install imutils\n",
    "import imutils\n",
    "from imutils import face_utils\n",
    "from scipy.spatial import distance as dist\n",
    "!pip install pygame\n",
    "import pygame"
   ]
  },
  {
   "cell_type": "code",
   "execution_count": 26,
   "metadata": {},
   "outputs": [
    {
     "data": {
      "text/plain": [
       "'19.22.0'"
      ]
     },
     "execution_count": 26,
     "metadata": {},
     "output_type": "execute_result"
    }
   ],
   "source": [
    "dlib.__version__"
   ]
  },
  {
   "cell_type": "code",
   "execution_count": 27,
   "metadata": {},
   "outputs": [
    {
     "data": {
      "text/plain": [
       "'4.5.2'"
      ]
     },
     "execution_count": 27,
     "metadata": {},
     "output_type": "execute_result"
    }
   ],
   "source": [
    "cv2.__version__"
   ]
  },
  {
   "cell_type": "code",
   "execution_count": null,
   "metadata": {},
   "outputs": [],
   "source": [
    "# https://stackoverflow.com/questions/41912372/dlib-installation-on-windows-10\n",
    "# https://www.youtube.com/watch?v=xXbouOlAyoo\n",
    "# https://learnopencv.com/install-opencv-3-and-dlib-on-windows-python-only/"
   ]
  },
  {
   "cell_type": "code",
   "execution_count": 20,
   "metadata": {},
   "outputs": [],
   "source": [
    "# alarm mp3 from:\n",
    "# https://www.fesliyanstudios.com/royalty-free-sound-effects-download/alarm-203\n",
    "\n",
    "path = '../Unknown/test_folder/Alarm.mp3'\n",
    "\n",
    "def sound_alarm():\n",
    "    pygame.mixer.init()\n",
    "    pygame.mixer.music.load(path)\n",
    "    pygame.mixer.music.play()"
   ]
  },
  {
   "cell_type": "code",
   "execution_count": 8,
   "metadata": {},
   "outputs": [
    {
     "data": {
      "text/html": [
       "<img src=\"https://www.goeduhub.com/ezoimgfmt/www.pyimagesearch.com/wp-content/uploads/2017/04/blink_detection_plot.jpg?ezimgfmt=rs:607x358/rscb1/ng:webp/ngcb1\" width=\"600\" height=\"500\"/>"
      ],
      "text/plain": [
       "<IPython.core.display.Image object>"
      ]
     },
     "execution_count": 8,
     "metadata": {},
     "output_type": "execute_result"
    }
   ],
   "source": [
    "from IPython.display import display, Image, SVG, Math, YouTubeVideo\n",
    "Image(url ='https://www.goeduhub.com/ezoimgfmt/www.pyimagesearch.com/wp-content/uploads/2017/04/blink_detection_plot.jpg?ezimgfmt=rs:607x358/rscb1/ng:webp/ngcb1', width=600, height=500)"
   ]
  },
  {
   "cell_type": "code",
   "execution_count": 9,
   "metadata": {},
   "outputs": [],
   "source": [
    "def eye_aspect_ratio(eye):\n",
    "    A = dist.euclidean(eye[1], eye[5])\n",
    "    B = dist.euclidean(eye[2], eye[4]) # vertical distance\n",
    "    C = dist.euclidean(eye[0], eye[3]) # horizontal distance\n",
    " \n",
    "    ear = (A + B) / (2.0 * C)\n",
    "    return ear"
   ]
  },
  {
   "cell_type": "markdown",
   "metadata": {},
   "source": [
    "#### Define parameters"
   ]
  },
  {
   "cell_type": "code",
   "execution_count": 10,
   "metadata": {},
   "outputs": [],
   "source": [
    "# eye aspect ratio \n",
    "# falls below this threshold, we will start counting the number of frames the person has closed their eyes. \n",
    "EYE_AR_THRESH = 0.25\n",
    "# if person has closed their eyes for 35 consecutive frames ,we will play the alarm.\n",
    "EYE_AR_CONSEC_FRAMES = 20\n",
    "\n",
    "COUNTER = 0\n",
    "ALARM_ON = False\n"
   ]
  },
  {
   "cell_type": "code",
   "execution_count": 12,
   "metadata": {},
   "outputs": [],
   "source": [
    "# To download the dlib's pre-trained facial landmark detector \n",
    "# https://github.com/italojs/facial-landmarks-recognition/blob/master/shape_predictor_68_face_landmarks.dat\n",
    "predictor_path = 'shape_predictor_68_face_landmarks.dat'\n",
    "\n",
    "detector = dlib.get_frontal_face_detector()\n",
    "predictor = dlib.shape_predictor(predictor_path)"
   ]
  },
  {
   "cell_type": "code",
   "execution_count": 13,
   "metadata": {},
   "outputs": [],
   "source": [
    "# Grab the indexes of the facial landmarks for the left and right eye,respectively\n",
    "(lStart, lEnd) = face_utils.FACIAL_LANDMARKS_IDXS[\"left_eye\"]\n",
    "(rStart, rEnd) = face_utils.FACIAL_LANDMARKS_IDXS[\"right_eye\"]"
   ]
  },
  {
   "cell_type": "code",
   "execution_count": 23,
   "metadata": {},
   "outputs": [],
   "source": [
    "# video capture from: https://www.youtube.com/watch?v=Mtz1Iq4Zw1k\n",
    "cap = cv2.VideoCapture(\"../Unknown/test_folder/driver2.mp4\")\n",
    "#cap = cv2.VideoCapture(0) # for webcam\n",
    "\n",
    "while True:\n",
    "    ret, frame = cap.read()\n",
    "    if ret == False:\n",
    "        print('Failed to capture frame from camera. Check camera index in cv2.VideoCapture(0) \\n')\n",
    "        break\n",
    "        # cv2.imshow(frame)\n",
    "\n",
    "    frame = imutils.resize(frame, width=600)\n",
    "    gray = cv2.cvtColor(frame, cv2.COLOR_BGR2GRAY)\n",
    "    rects = detector(gray, 0)\n",
    "\n",
    "    for rect in rects:\n",
    "        shape = predictor(gray, rect)    # determine the facial landmarks for face region\n",
    "        shape = face_utils.shape_to_np(shape) #converting to numpy array\n",
    "\n",
    "        leftEye = shape[lStart:lEnd]\n",
    "        rightEye = shape[rStart:rEnd]\n",
    "\n",
    "        leftEAR = eye_aspect_ratio(leftEye)\n",
    "        rightEAR = eye_aspect_ratio(rightEye)\n",
    "\n",
    "        ear = (leftEAR + rightEAR) / 2.0\n",
    "\n",
    "        leftEyeHull = cv2.convexHull(leftEye)\n",
    "        rightEyeHull = cv2.convexHull(rightEye)\n",
    "        cv2.drawContours(frame, [leftEyeHull], -1, (0, 255, 0), 1)\n",
    "        cv2.drawContours(frame, [rightEyeHull], -1, (0, 255, 0), 1)\n",
    "\n",
    "        if ear < EYE_AR_THRESH:\n",
    "            COUNTER += 1\n",
    "\n",
    "            if COUNTER >= EYE_AR_CONSEC_FRAMES:\n",
    "                if not ALARM_ON:\n",
    "                    ALARM_ON = True\n",
    "                    d=threading.Thread(target=sound_alarm)\n",
    "                    d.setDaemon(True)\n",
    "                    d.start()\n",
    "\n",
    "                cv2.putText(frame, \"DROWSINESS ALERT!\", (10, 30),cv2.FONT_HERSHEY_SIMPLEX, 0.7, (0, 0, 255), 2)\n",
    "\n",
    "        else:\n",
    "            COUNTER = 0\n",
    "            ALARM_ON = False\n",
    "\n",
    "        cv2.putText(frame, \"EAR: {:.2f}\".format(ear), (300, 30),cv2.FONT_HERSHEY_SIMPLEX, 0.7, (0, 0, 255), 2)\n",
    "\n",
    "    cv2.imshow(\"Frame\", frame)\n",
    "    key = cv2.waitKey(1) & 0xFF\n",
    "\n",
    "    if key == ord(\"q\"):\n",
    "        break\n",
    "\n",
    "cv2.destroyAllWindows()\n",
    "cap.release()\n",
    "       "
   ]
  },
  {
   "cell_type": "code",
   "execution_count": 24,
   "metadata": {},
   "outputs": [
    {
     "data": {
      "image/jpeg": "[encoded data removed]",
      "text/plain": [
       "<IPython.core.display.Image object>"
      ]
     },
     "execution_count": 24,
     "metadata": {},
     "output_type": "execute_result"
    }
   ],
   "source": [
    "from IPython.display import Image\n",
    "Image(filename='../Unknown/test_folder/result6.jpg') "
   ]
  },
  {
   "cell_type": "markdown",
   "metadata": {},
   "source": [
    "#### References:\n",
    "\n",
    "    https://medium.com/analytics-vidhya/how-to-install-dlib-library-for-python-in-windows-10-57348ba1117f\n",
    "    https://www.pyimagesearch.com/2017/04/10/detect-eyes-nose-lips-jaw-dlib-opencv-python/\n",
    "    https://www.goeduhub.com/10547/driver-drowsiness-detection-using-opencv\n",
    "    https://github.com/fiyero/OpenCV_Dlib_drunk_sleepy_alert_for_driver/blob/master/Drowsiness%20detection%20with%20OpenCV_github.ipynb"
   ]
  },
  {
   "cell_type": "code",
   "execution_count": null,
   "metadata": {},
   "outputs": [],
   "source": []
  }
 ],
 "metadata": {
  "kernelspec": {
   "display_name": "Python 3",
   "language": "python",
   "name": "python3"
  },
  "language_info": {
   "codemirror_mode": {
    "name": "ipython",
    "version": 3
   },
   "file_extension": ".py",
   "mimetype": "text/x-python",
   "name": "python",
   "nbconvert_exporter": "python",
   "pygments_lexer": "ipython3",
   "version": "3.6.13"
  }
 },
 "nbformat": 4,
 "nbformat_minor": 4
}
